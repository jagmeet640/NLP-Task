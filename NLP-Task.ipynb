{
 "cells": [
  {
   "cell_type": "markdown",
   "id": "f7f21db7",
   "metadata": {},
   "source": [
    "# Importing Relevant Libraries"
   ]
  },
  {
   "cell_type": "code",
   "execution_count": 63,
   "id": "60d76539",
   "metadata": {},
   "outputs": [],
   "source": [
    "import pandas as pd\n",
    "import numpy as np\n",
    "import matplotlib.pyplot as plt\n",
    "import gensim\n",
    "from gensim import corpora\n",
    "from gensim.models import LdaModel\n",
    "import pprint\n",
    "from textblob import TextBlob\n",
    "import nltk\n",
    "from nltk.corpus import stopwords\n",
    "from nltk.tokenize import word_tokenize\n",
    "from nltk.stem import WordNetLemmatizer"
   ]
  },
  {
   "cell_type": "code",
   "execution_count": 64,
   "id": "c1de0f5a",
   "metadata": {
    "collapsed": true
   },
   "outputs": [
    {
     "name": "stderr",
     "output_type": "stream",
     "text": [
      "[nltk_data] Downloading package punkt to\n",
      "[nltk_data]     C:\\Users\\jagme\\AppData\\Roaming\\nltk_data...\n",
      "[nltk_data]   Package punkt is already up-to-date!\n",
      "[nltk_data] Downloading package stopwords to\n",
      "[nltk_data]     C:\\Users\\jagme\\AppData\\Roaming\\nltk_data...\n",
      "[nltk_data]   Package stopwords is already up-to-date!\n",
      "[nltk_data] Downloading package wordnet to\n",
      "[nltk_data]     C:\\Users\\jagme\\AppData\\Roaming\\nltk_data...\n"
     ]
    },
    {
     "data": {
      "text/plain": [
       "True"
      ]
     },
     "execution_count": 64,
     "metadata": {},
     "output_type": "execute_result"
    }
   ],
   "source": [
    "# !pip install openpyxl\n",
    "# !pip install textblob\n",
    "# !pip install gensim\n",
    "# nltk.download('punkt')\n",
    "# nltk.download('stopwords')\n",
    "# nltk.download('wordnet')"
   ]
  },
  {
   "cell_type": "markdown",
   "id": "1cd40293",
   "metadata": {},
   "source": [
    "# Data Preprocessing"
   ]
  },
  {
   "cell_type": "code",
   "execution_count": 65,
   "id": "3485a618",
   "metadata": {},
   "outputs": [
    {
     "name": "stdout",
     "output_type": "stream",
     "text": [
      "0                  disagree\n",
      "1         strongly disagree\n",
      "2         strongly disagree\n",
      "3         strongly disagree\n",
      "4         strongly disagree\n",
      "                ...        \n",
      "180964                     \n",
      "180965                agree\n",
      "180966       strongly agree\n",
      "180967       strongly agree\n",
      "180968       strongly agree\n",
      "Name: ParticipantResponse, Length: 180969, dtype: object\n"
     ]
    }
   ],
   "source": [
    "# Load the Excel file\n",
    "excel_file = \"AI_Engineer_Dataset_Task_1.xlsx\"\n",
    "df = pd.read_excel(excel_file)\n",
    "\n",
    "# Assuming the text data is in a column named \"text_column\"\n",
    "text_data = df[\"ParticipantResponse\"]\n",
    "\n",
    "# Function to preprocess text using NLTK\n",
    "def preprocess_text_nltk(text):\n",
    "    if isinstance(text, str):\n",
    "        # Convert text to lowercase\n",
    "        text = text.lower()\n",
    "        # Tokenize text using NLTK\n",
    "        tokens = word_tokenize(text)\n",
    "        # Remove punctuation, special characters, and digits\n",
    "        tokens = [word for word in tokens if word.isalpha()]\n",
    "        # Remove stopwords using NLTK\n",
    "        stop_words = set(stopwords.words('english'))\n",
    "        tokens = [word for word in tokens if word not in stop_words]\n",
    "        # Lemmatize words using NLTK\n",
    "        lemmatizer = WordNetLemmatizer()\n",
    "        tokens = [lemmatizer.lemmatize(word) for word in tokens]\n",
    "        # Reconstruct the text\n",
    "        text = ' '.join(tokens)\n",
    "    else:\n",
    "        # If it's not a string, convert it to an empty string\n",
    "        text = \"\"\n",
    "    return text\n",
    "\n",
    "# Apply the preprocessing function to the text data\n",
    "text_data_preprocessed_nltk = text_data.apply(preprocess_text_nltk)\n",
    "\n",
    "# Display the preprocessed text data\n",
    "print(text_data_preprocessed_nltk)\n"
   ]
  },
  {
   "cell_type": "markdown",
   "id": "39dfbb65",
   "metadata": {},
   "source": [
    "# Sentiment Analysis"
   ]
  },
  {
   "cell_type": "code",
   "execution_count": 66,
   "id": "f0e4ab75",
   "metadata": {},
   "outputs": [
    {
     "name": "stderr",
     "output_type": "stream",
     "text": [
      "C:\\Users\\jagme\\AppData\\Local\\Temp\\ipykernel_1576\\2579182003.py:41: SettingWithCopyWarning: \n",
      "A value is trying to be set on a copy of a slice from a DataFrame\n",
      "\n",
      "See the caveats in the documentation: https://pandas.pydata.org/pandas-docs/stable/user_guide/indexing.html#returning-a-view-versus-a-copy\n",
      "  text_data['Sentiment'] = text_data_preprocessed_nltk.apply(get_sentiment_polarity)\n"
     ]
    },
    {
     "data": {
      "image/png": "[encoded data removed]",
      "text/plain": [
       "<Figure size 800x600 with 1 Axes>"
      ]
     },
     "metadata": {},
     "output_type": "display_data"
    },
    {
     "name": "stdout",
     "output_type": "stream",
     "text": [
      "Sentiment Distribution Summary:\n",
      "ParticipantResponse\n",
      "Positive    107065\n",
      "Neutral      73819\n",
      "Negative        85\n",
      "Name: count, dtype: int64\n"
     ]
    }
   ],
   "source": [
    "# function to assign sentiment\n",
    "def get_sentiment_polarity(text):\n",
    "    analysis = TextBlob(text)\n",
    "    if analysis.sentiment.polarity > 0:\n",
    "        return \"Positive\"\n",
    "    elif analysis.sentiment.polarity < 0:\n",
    "        return \"Negative\"\n",
    "    else:\n",
    "        return \"Neutral\"\n",
    "\n",
    "# Apply sentiment analysis to each comment\n",
    "text_data_preprocessed_nltk = text_data_preprocessed_nltk.astype(str)  # Ensure all values are strings\n",
    "text_data['Sentiment'] = text_data_preprocessed_nltk.apply(get_sentiment_polarity)\n",
    "\n",
    "# Calculate the distribution of sentiment\n",
    "sentiment_distribution = text_data['Sentiment'].value_counts()\n",
    "\n",
    "# Create a pie chart to visualize sentiment distribution\n",
    "plt.figure(figsize=(8, 6))\n",
    "sentiment_distribution.plot(kind='pie', autopct='%1.1f%%', colors=['green', 'red', 'blue'])\n",
    "plt.title('Sentiment Distribution of Feedback Comments')\n",
    "plt.ylabel('')\n",
    "plt.show()\n",
    "\n",
    "# Display summary statistics\n",
    "print(\"Sentiment Distribution Summary:\")\n",
    "print(sentiment_distribution)\n"
   ]
  },
  {
   "cell_type": "markdown",
   "id": "2a2c5159",
   "metadata": {},
   "source": [
    "# Topic Modeling"
   ]
  },
  {
   "cell_type": "code",
   "execution_count": 67,
   "id": "afc5225c",
   "metadata": {},
   "outputs": [],
   "source": [
    "# Tokenize the preprocessed text data\n",
    "tokenized_data = text_data_preprocessed_nltk.apply(lambda x: x.split())\n",
    "\n",
    "# Create a dictionary from the tokenized data\n",
    "dictionary = corpora.Dictionary(tokenized_data)\n",
    "\n",
    "# Create a document-term matrix (corpus)\n",
    "corpus = [dictionary.doc2bow(text) for text in tokenized_data]\n",
    "\n",
    "# Define the number of topics for LDA\n",
    "num_topics = 5"
   ]
  },
  {
   "cell_type": "code",
   "execution_count": 68,
   "id": "098bfa99",
   "metadata": {},
   "outputs": [
    {
     "name": "stdout",
     "output_type": "stream",
     "text": [
      "Identified Topics:\n",
      "(0, '0.062*\"course\" + 0.040*\"good\" + 0.022*\"dr\" + 0.019*\"thank\" + 0.019*\"best\"')\n",
      "(1, '0.573*\"agree\" + 0.422*\"strongly\" + 0.000*\"sss\" + 0.000*\"ه\" + 0.000*\"لازيوجد\"')\n",
      "(2, '0.031*\"لا\" + 0.027*\"و\" + 0.024*\"في\" + 0.024*\"great\" + 0.023*\"من\"')\n",
      "(3, '0.567*\"disagree\" + 0.408*\"strongly\" + 0.000*\"sss\" + 0.000*\"ه\" + 0.000*\"لازيوجد\"')\n",
      "(4, '0.936*\"neutral\" + 0.004*\"none\" + 0.000*\"sss\" + 0.000*\"ه\" + 0.000*\"لازيوجد\"')\n"
     ]
    }
   ],
   "source": [
    "# Create the LDA model\n",
    "lda_model = LdaModel(corpus, num_topics=num_topics, id2word=dictionary, passes=5, random_state=42)\n",
    "\n",
    "# Print the topics and their representative keywords\n",
    "topics = lda_model.print_topics(num_words=5)\n",
    "\n",
    "print(\"Identified Topics:\")\n",
    "for topic in topics:\n",
    "    print(topic)"
   ]
  },
  {
   "cell_type": "markdown",
   "id": "3000af27",
   "metadata": {},
   "source": [
    "# Insights and Recommendations"
   ]
  },
  {
   "cell_type": "code",
   "execution_count": 69,
   "id": "05753034",
   "metadata": {},
   "outputs": [
    {
     "name": "stdout",
     "output_type": "stream",
     "text": [
      "\n",
      "Topic Modeling Insights:\n",
      "Topic 1: (0, '0.062*\"course\" + 0.040*\"good\" + 0.022*\"dr\" + 0.019*\"thank\" + 0.019*\"best\"')\n",
      "Topic 2: (1, '0.573*\"agree\" + 0.422*\"strongly\" + 0.000*\"sss\" + 0.000*\"ه\" + 0.000*\"لازيوجد\"')\n",
      "Topic 3: (2, '0.031*\"لا\" + 0.027*\"و\" + 0.024*\"في\" + 0.024*\"great\" + 0.023*\"من\"')\n",
      "Topic 4: (3, '0.567*\"disagree\" + 0.408*\"strongly\" + 0.000*\"sss\" + 0.000*\"ه\" + 0.000*\"لازيوجد\"')\n",
      "Topic 5: (4, '0.936*\"neutral\" + 0.004*\"none\" + 0.000*\"sss\" + 0.000*\"ه\" + 0.000*\"لازيوجد\"')\n"
     ]
    }
   ],
   "source": [
    "print(\"\\nTopic Modeling Insights:\")\n",
    "topics = lda_model.print_topics(num_words=5)\n",
    "for i, topic in enumerate(topics):\n",
    "    print(f\"Topic {i+1}: {topic}\")"
   ]
  },
  {
   "cell_type": "code",
   "execution_count": 70,
   "id": "d0c87647",
   "metadata": {},
   "outputs": [],
   "source": [
    "positive_count = sentiment_distribution.get(\"Positive\", 0)\n",
    "negative_count = sentiment_distribution.get(\"Negative\", 0)\n",
    "neutral_count = sentiment_distribution.get(\"Neutral\", 0)"
   ]
  },
  {
   "cell_type": "code",
   "execution_count": 71,
   "id": "076fd5c0",
   "metadata": {},
   "outputs": [
    {
     "name": "stdout",
     "output_type": "stream",
     "text": [
      "\n",
      "Recommendations:\n",
      "Based on the sentiment analysis, there are more positive comments, indicating areas of strength.\n"
     ]
    }
   ],
   "source": [
    "print(\"\\nRecommendations:\")\n",
    "if positive_count > negative_count:\n",
    "    print(\"Based on the sentiment analysis, high number of positive comments are identified , indicating areas of strength.\")\n",
    "else:\n",
    "    print(\"Based on the sentiment analysis, high number of Negative comments are identified, indicating potential areas for improvement.\")"
   ]
  },
  {
   "cell_type": "code",
   "execution_count": null,
   "id": "aa0c562a",
   "metadata": {},
   "outputs": [],
   "source": []
  }
 ],
 "metadata": {
  "kernelspec": {
   "display_name": "Python 3 (ipykernel)",
   "language": "python",
   "name": "python3"
  },
  "language_info": {
   "codemirror_mode": {
    "name": "ipython",
    "version": 3
   },
   "file_extension": ".py",
   "mimetype": "text/x-python",
   "name": "python",
   "nbconvert_exporter": "python",
   "pygments_lexer": "ipython3",
   "version": "3.9.16"
  }
 },
 "nbformat": 4,
 "nbformat_minor": 5
}
