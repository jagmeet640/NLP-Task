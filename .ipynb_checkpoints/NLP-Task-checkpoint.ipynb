{
 "cells": [
  {
   "cell_type": "markdown",
   "id": "dc4042c0",
   "metadata": {},
   "source": [
    "# Importing Relevant Libraries"
   ]
  },
  {
   "cell_type": "code",
   "execution_count": 15,
   "id": "9d0aac3d",
   "metadata": {},
   "outputs": [],
   "source": [
    "import pandas as pd\n",
    "import numpy as np\n",
    "import sklearn\n",
    "from textblob import TextBlob\n",
    "import matplotlib.pyplot as plt\n",
    "import gensim\n",
    "from gensim import corpora\n",
    "from gensim.models import LdaModel\n",
    "import pprint"
   ]
  },
  {
   "cell_type": "code",
   "execution_count": 16,
   "id": "2cbb5301",
   "metadata": {},
   "outputs": [],
   "source": [
    "# !pip install openpyxl\n",
    "# !pip install textblob\n",
    "# !pip install gensim\n"
   ]
  },
  {
   "cell_type": "markdown",
   "id": "52e9bfde",
   "metadata": {},
   "source": [
    "# Data Preprocessing"
   ]
  },
  {
   "cell_type": "code",
   "execution_count": 54,
   "id": "14eb2c18",
   "metadata": {},
   "outputs": [
    {
     "name": "stdout",
     "output_type": "stream",
     "text": [
      "0                  disagree\n",
      "1         strongly disagree\n",
      "2         strongly disagree\n",
      "3         strongly disagree\n",
      "4         strongly disagree\n",
      "                ...        \n",
      "180964                     \n",
      "180965                agree\n",
      "180966       strongly agree\n",
      "180967       strongly agree\n",
      "180968       strongly agree\n",
      "Name: ParticipantResponse, Length: 180969, dtype: object\n"
     ]
    }
   ],
   "source": [
    "import pandas as pd\n",
    "\n",
    "# Load the Excel file\n",
    "excel_file = \"AI_Engineer_Dataset_Task_1.xlsx\"\n",
    "df = pd.read_excel(excel_file)\n",
    "\n",
    "# Assuming the text data is in a column named \"text_column\"\n",
    "\n",
    "text_data = df[\"ParticipantResponse\"]\n",
    "\n",
    "# this is to test another approach\n",
    "text_data_drop = df.drop(columns=['AcademicYear', 'SemesterName', 'ParticipantID', 'DegreeLevel', 'Gender', 'Nationality', 'StudentProgram',\n",
    "                            'CourseCode', 'CourseName', 'QuestionText', 'QuestionType'])\n",
    "# text_data.head()\n",
    "\n",
    "# Function to preprocess text\n",
    "def preprocess_text(text):\n",
    "    if isinstance(text, str):\n",
    "        # Convert text to lowercase\n",
    "        text = text.lower()\n",
    "        # Remove punctuation, special characters, and digits\n",
    "        text = ''.join([char for char in text if char.isalpha() or char.isspace()])\n",
    "        # Remove extra spaces\n",
    "        text = ' '.join(text.split())\n",
    "    else:\n",
    "        # If it's not a string, convert it to an empty string\n",
    "        text = \"\"\n",
    "    return text\n",
    "\n",
    "# Apply the preprocessing function to the text data\n",
    "text_data_preprocessed = text_data.apply(preprocess_text)\n",
    "text_data_preprocessed_drop = text_data_drop.apply(preprocess_text)\n",
    "\n",
    "# Display the preprocessed text data\n",
    "print(text_data_preprocessed)\n"
   ]
  },
  {
   "cell_type": "markdown",
   "id": "376839fd",
   "metadata": {},
   "source": [
    "# Sentiment Analysis"
   ]
  },
  {
   "cell_type": "code",
   "execution_count": 49,
   "id": "3895e478",
   "metadata": {},
   "outputs": [
    {
     "name": "stderr",
     "output_type": "stream",
     "text": [
      "C:\\Users\\jagme\\AppData\\Local\\Temp\\ipykernel_1576\\3526067109.py:13: SettingWithCopyWarning: \n",
      "A value is trying to be set on a copy of a slice from a DataFrame\n",
      "\n",
      "See the caveats in the documentation: https://pandas.pydata.org/pandas-docs/stable/user_guide/indexing.html#returning-a-view-versus-a-copy\n",
      "  text_data['Sentiment'] = text_data_preprocessed.apply(get_sentiment_polarity)\n"
     ]
    },
    {
     "data": {
      "image/png": "[encoded data removed]",
      "text/plain": [
       "<Figure size 800x600 with 1 Axes>"
      ]
     },
     "metadata": {},
     "output_type": "display_data"
    },
    {
     "name": "stdout",
     "output_type": "stream",
     "text": [
      "Sentiment Distribution Summary:\n",
      "ParticipantResponse\n",
      "Positive    107115\n",
      "Neutral      73747\n",
      "Negative       107\n",
      "Name: count, dtype: int64\n"
     ]
    }
   ],
   "source": [
    "def get_sentiment_polarity(text):\n",
    "    analysis = TextBlob(text)\n",
    "    if analysis.sentiment.polarity > 0:\n",
    "        return \"Positive\"\n",
    "    elif analysis.sentiment.polarity < 0:\n",
    "        return \"Negative\"\n",
    "    else:\n",
    "        return \"Neutral\"\n",
    "\n",
    "    \n",
    "# Apply sentiment analysis to each comment\n",
    "text_data_preprocessed = text_data_preprocessed.astype(str)  # Ensure all values are strings\n",
    "text_data['Sentiment'] = text_data_preprocessed.apply(get_sentiment_polarity)\n",
    "\n",
    "# Calculate the distribution of sentiment\n",
    "sentiment_distribution = text_data['Sentiment'].value_counts()\n",
    "\n",
    "# Create a pie chart to visualize sentiment distribution\n",
    "plt.figure(figsize=(8, 6))\n",
    "sentiment_distribution.plot(kind='pie', autopct='%1.1f%%', colors=['green', 'red', 'blue'])\n",
    "plt.title('Sentiment Distribution of Feedback Comments')\n",
    "plt.ylabel('')\n",
    "plt.show()\n",
    "\n",
    "# Display summary statistics\n",
    "print(\"Sentiment Distribution Summary:\")\n",
    "print(sentiment_distribution)"
   ]
  },
  {
   "cell_type": "markdown",
   "id": "59cf7de2",
   "metadata": {},
   "source": [
    "# Topic Modeling"
   ]
  },
  {
   "cell_type": "code",
   "execution_count": 18,
   "id": "0ccf4eb0",
   "metadata": {},
   "outputs": [],
   "source": [
    "# Tokenize the preprocessed text data\n",
    "tokenized_data = text_data_preprocessed.apply(lambda x: x.split())\n",
    "\n",
    "# Create a dictionary from the tokenized data\n",
    "dictionary = corpora.Dictionary(tokenized_data)\n",
    "\n",
    "# Create a document-term matrix (corpus)\n",
    "corpus = [dictionary.doc2bow(text) for text in tokenized_data]\n",
    "\n",
    "# Define the number of topics for LDA\n",
    "num_topics = 5"
   ]
  },
  {
   "cell_type": "code",
   "execution_count": 33,
   "id": "b097563c",
   "metadata": {},
   "outputs": [
    {
     "data": {
      "text/plain": [
       "0             disagree\n",
       "1    strongly disagree\n",
       "2    strongly disagree\n",
       "3    strongly disagree\n",
       "4    strongly disagree\n",
       "Name: ParticipantResponse, dtype: object"
      ]
     },
     "execution_count": 33,
     "metadata": {},
     "output_type": "execute_result"
    }
   ],
   "source": [
    "text_data_preprocessed.head()"
   ]
  },
  {
   "cell_type": "code",
   "execution_count": 19,
   "id": "c4871166",
   "metadata": {},
   "outputs": [
    {
     "name": "stdout",
     "output_type": "stream",
     "text": [
      "Identified Topics:\n",
      "(0, '0.550*\"disagree\" + 0.394*\"strongly\" + 0.027*\"no\" + 0.001*\"comment\" + 0.001*\"suggestion\"')\n",
      "(1, '0.041*\"the\" + 0.024*\"and\" + 0.021*\"course\" + 0.020*\"to\" + 0.015*\"i\"')\n",
      "(2, '0.498*\"strongly\" + 0.496*\"agree\" + 0.000*\"na\" + 0.000*\"ه\" + 0.000*\"sssssssss\"')\n",
      "(3, '0.968*\"agree\" + 0.000*\"ه\" + 0.000*\"sssssssss\" + 0.000*\"لازيوجد\" + 0.000*\"nn\"')\n",
      "(4, '0.925*\"neutral\" + 0.002*\"nul\" + 0.001*\"gg\" + 0.001*\"ش\" + 0.001*\"thankz\"')\n"
     ]
    }
   ],
   "source": [
    "# Create the LDA model\n",
    "lda_model = LdaModel(corpus, num_topics=num_topics, id2word=dictionary, passes=5, random_state=42)\n",
    "\n",
    "# Print the topics and their representative keywords\n",
    "topics = lda_model.print_topics(num_words=5)\n",
    "\n",
    "print(\"Identified Topics:\")\n",
    "for topic in topics:\n",
    "    print(topic)\n"
   ]
  },
  {
   "cell_type": "markdown",
   "id": "b4d0657b",
   "metadata": {},
   "source": [
    "# Insights and Recommendations"
   ]
  },
  {
   "cell_type": "code",
   "execution_count": 59,
   "id": "6b880587",
   "metadata": {},
   "outputs": [
    {
     "name": "stdout",
     "output_type": "stream",
     "text": [
      "\n",
      "Topic Modeling Insights:\n",
      "Topic 1: (0, '0.550*\"disagree\" + 0.394*\"strongly\" + 0.027*\"no\" + 0.001*\"comment\" + 0.001*\"suggestion\"')\n",
      "Topic 2: (1, '0.041*\"the\" + 0.024*\"and\" + 0.021*\"course\" + 0.020*\"to\" + 0.015*\"i\"')\n",
      "Topic 3: (2, '0.498*\"strongly\" + 0.496*\"agree\" + 0.000*\"na\" + 0.000*\"ه\" + 0.000*\"sssssssss\"')\n",
      "Topic 4: (3, '0.968*\"agree\" + 0.000*\"ه\" + 0.000*\"sssssssss\" + 0.000*\"لازيوجد\" + 0.000*\"nn\"')\n",
      "Topic 5: (4, '0.925*\"neutral\" + 0.002*\"nul\" + 0.001*\"gg\" + 0.001*\"ش\" + 0.001*\"thankz\"')\n"
     ]
    }
   ],
   "source": [
    "# Insights based on topic modeling\n",
    "print(\"\\nTopic Modeling Insights:\")\n",
    "topics = lda_model.print_topics(num_words=5)\n",
    "for i, topic in enumerate(topics):\n",
    "    print(f\"Topic {i+1}: {topic}\")"
   ]
  },
  {
   "cell_type": "code",
   "execution_count": 61,
   "id": "a32cf617",
   "metadata": {},
   "outputs": [],
   "source": [
    "# Insights based on sentiment analysis\n",
    "positive_count = sentiment_distribution.get(\"Positive\", 0)\n",
    "negative_count = sentiment_distribution.get(\"Negative\", 0)\n",
    "neutral_count = sentiment_distribution.get(\"Neutral\", 0)"
   ]
  },
  {
   "cell_type": "code",
   "execution_count": 62,
   "id": "5bcb58f4",
   "metadata": {},
   "outputs": [
    {
     "name": "stdout",
     "output_type": "stream",
     "text": [
      "\n",
      "Recommendations:\n",
      "Based on the sentiment analysis, there are more positive comments, indicating areas of strength.\n"
     ]
    }
   ],
   "source": [
    "# Recommendations (customize based on insights)\n",
    "print(\"\\nRecommendations:\")\n",
    "if positive_count > negative_count:\n",
    "    print(\"Based on the sentiment analysis, there are more positive comments, indicating areas of strength.\")\n",
    "else:\n",
    "    print(\"Based on the sentiment analysis, there are more negative comments, indicating potential areas for improvement.\")\n"
   ]
  },
  {
   "cell_type": "code",
   "execution_count": null,
   "id": "eb5cea07",
   "metadata": {},
   "outputs": [],
   "source": []
  }
 ],
 "metadata": {
  "kernelspec": {
   "display_name": "Python 3 (ipykernel)",
   "language": "python",
   "name": "python3"
  },
  "language_info": {
   "codemirror_mode": {
    "name": "ipython",
    "version": 3
   },
   "file_extension": ".py",
   "mimetype": "text/x-python",
   "name": "python",
   "nbconvert_exporter": "python",
   "pygments_lexer": "ipython3",
   "version": "3.9.16"
  }
 },
 "nbformat": 4,
 "nbformat_minor": 5
}
